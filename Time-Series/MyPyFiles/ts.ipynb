{
 "cells": [
  {
   "cell_type": "code",
   "execution_count": 37,
   "metadata": {},
   "outputs": [],
   "source": [
    "import pandas as pd\n",
    "pd.options.mode.chained_assignment = None"
   ]
  },
  {
   "cell_type": "code",
   "execution_count": 38,
   "metadata": {},
   "outputs": [],
   "source": [
    "rpower = pd.read_csv(\"../GMRINFRA.NS.csv\",header = 0, index_col=\"Date\")"
   ]
  },
  {
   "cell_type": "code",
   "execution_count": 39,
   "metadata": {},
   "outputs": [],
   "source": [
    "rpower_high = rpower[['High']]\n",
    "rpower_low = rpower[['Low']]"
   ]
  },
  {
   "cell_type": "code",
   "execution_count": 40,
   "metadata": {},
   "outputs": [],
   "source": [
    "rpower_high['shift1'] = rpower_high['High'].shift(1)\n",
    "rpower_high['shift2'] = rpower_high['High'].shift(2)\n",
    "rpower_high['shift3'] = rpower_high['High'].shift(3)\n",
    "rpower_high['shift4'] = rpower_high['High'].shift(4)\n",
    "rpower_high['shift5'] = rpower_high['High'].shift(5)\n",
    "rpower_high['shift6'] = rpower_high['High'].shift(6)\n",
    "rpower_high['shift7'] = rpower_high['High'].shift(7)\n"
   ]
  },
  {
   "cell_type": "code",
   "execution_count": 41,
   "metadata": {},
   "outputs": [],
   "source": [
    "rpower_low['shift1'] = rpower_low['Low'].shift(1)\n",
    "rpower_low['shift2'] = rpower_low['Low'].shift(2)\n",
    "rpower_low['shift3'] = rpower_low['Low'].shift(3)\n",
    "rpower_low['shift4'] = rpower_low['Low'].shift(4)\n",
    "rpower_low['shift5'] = rpower_low['Low'].shift(5)\n",
    "rpower_low['shift6'] = rpower_low['Low'].shift(6)\n",
    "rpower_low['shift7'] = rpower_low['Low'].shift(7)"
   ]
  },
  {
   "cell_type": "code",
   "execution_count": 42,
   "metadata": {},
   "outputs": [],
   "source": [
    "rpower_high = rpower_high.dropna()\n",
    "rpower_low = rpower_low.dropna()"
   ]
  },
  {
   "cell_type": "code",
   "execution_count": 43,
   "metadata": {},
   "outputs": [],
   "source": [
    "# rpower_high"
   ]
  },
  {
   "cell_type": "code",
   "execution_count": 44,
   "metadata": {},
   "outputs": [],
   "source": [
    "from sklearn.linear_model import LinearRegression"
   ]
  },
  {
   "cell_type": "code",
   "execution_count": 45,
   "metadata": {},
   "outputs": [],
   "source": [
    "X_train , X_test , y_train , y_test = rpower_high.drop(['High'], axis=1)[:-7] , rpower_high.drop(['High'], axis=1)[-7:] , rpower_high['High'][:-7] , rpower_high['High'][-7:]"
   ]
  },
  {
   "cell_type": "code",
   "execution_count": 46,
   "metadata": {},
   "outputs": [],
   "source": [
    "model  = LinearRegression()\n",
    "# model.fit(rpower_high.drop(['High'], axis=1) , rpower_high['High'])"
   ]
  },
  {
   "cell_type": "code",
   "execution_count": 47,
   "metadata": {},
   "outputs": [],
   "source": [
    "model_high = model.fit(rpower_high.drop(['High'], axis=1) , rpower_high['High'])\n",
    "model_low = model.fit(rpower_low.drop(['Low'], axis=1) , rpower_low['Low'])"
   ]
  },
  {
   "cell_type": "code",
   "execution_count": 48,
   "metadata": {},
   "outputs": [],
   "source": [
    "from sklearn.metrics import mean_absolute_percentage_error, mean_absolute_error"
   ]
  },
  {
   "cell_type": "code",
   "execution_count": 49,
   "metadata": {},
   "outputs": [],
   "source": [
    "# predict = model.predict(X_test)"
   ]
  },
  {
   "cell_type": "code",
   "execution_count": 50,
   "metadata": {},
   "outputs": [],
   "source": [
    "# print(mean_absolute_error(y_pred=predict  , y_true=y_test))\n",
    "# print(mean_absolute_percentage_error(y_pred=predict  , y_true=y_test)*100)"
   ]
  },
  {
   "cell_type": "code",
   "execution_count": 51,
   "metadata": {},
   "outputs": [],
   "source": [
    "# X_test"
   ]
  },
  {
   "cell_type": "code",
   "execution_count": 52,
   "metadata": {},
   "outputs": [],
   "source": [
    "# X_test.iloc[0]"
   ]
  },
  {
   "cell_type": "code",
   "execution_count": 53,
   "metadata": {},
   "outputs": [],
   "source": [
    "# predict"
   ]
  },
  {
   "cell_type": "code",
   "execution_count": 54,
   "metadata": {},
   "outputs": [],
   "source": [
    "# test_df = pd.DataFrame(y_test)"
   ]
  },
  {
   "cell_type": "code",
   "execution_count": 55,
   "metadata": {},
   "outputs": [],
   "source": [
    "# test_df['predict'] = predict"
   ]
  },
  {
   "cell_type": "code",
   "execution_count": 56,
   "metadata": {},
   "outputs": [],
   "source": [
    "# test_df"
   ]
  },
  {
   "cell_type": "code",
   "execution_count": 57,
   "metadata": {},
   "outputs": [],
   "source": [
    "from datetime import datetime,timedelta\n",
    "# date = datetime.today()"
   ]
  },
  {
   "cell_type": "code",
   "execution_count": 58,
   "metadata": {},
   "outputs": [],
   "source": [
    "# next_date = date+ timedelta(1)"
   ]
  },
  {
   "cell_type": "code",
   "execution_count": 59,
   "metadata": {},
   "outputs": [],
   "source": [
    "# next_date.strftime('%Y-%m-%d')"
   ]
  },
  {
   "cell_type": "code",
   "execution_count": 60,
   "metadata": {},
   "outputs": [],
   "source": [
    "index = (datetime.today()).strftime('%Y-%m-%d')"
   ]
  },
  {
   "cell_type": "code",
   "execution_count": 61,
   "metadata": {},
   "outputs": [],
   "source": [
    "pred_high = {index : [\n",
    "    rpower[\"High\"].iloc[-1],\n",
    "    rpower[\"High\"].iloc[-2],\n",
    "    rpower[\"High\"].iloc[-3],\n",
    "    rpower[\"High\"].iloc[-4],\n",
    "    rpower[\"High\"].iloc[-5],\n",
    "    rpower[\"High\"].iloc[-6],\n",
    "    rpower[\"High\"].iloc[-7],\n",
    "    ]}\n",
    "pred_low = {index : [\n",
    "    rpower[\"Low\"].iloc[-1],\n",
    "    rpower[\"Low\"].iloc[-2],\n",
    "    rpower[\"Low\"].iloc[-3],\n",
    "    rpower[\"Low\"].iloc[-4],\n",
    "    rpower[\"Low\"].iloc[-5],\n",
    "    rpower[\"Low\"].iloc[-6],\n",
    "    rpower[\"Low\"].iloc[-7],\n",
    "    ]}"
   ]
  },
  {
   "cell_type": "code",
   "execution_count": 62,
   "metadata": {},
   "outputs": [],
   "source": [
    "# pred"
   ]
  },
  {
   "cell_type": "code",
   "execution_count": 63,
   "metadata": {},
   "outputs": [],
   "source": [
    "new_df_high = pd.DataFrame.from_dict(pred_high,orient='index',columns=[\"shift1\"\t,\"shift2\",\t\"shift3\",\t\"shift4\",\t\"shift5\",\t\"shift6\",\t\"shift7\"])\n",
    "new_df_low = pd.DataFrame.from_dict(pred_low,orient='index',columns=[\"shift1\"\t,\"shift2\",\t\"shift3\",\t\"shift4\",\t\"shift5\",\t\"shift6\",\t\"shift7\"])"
   ]
  },
  {
   "cell_type": "code",
   "execution_count": 64,
   "metadata": {},
   "outputs": [],
   "source": [
    "new_df_high.index.name = \"Date\"\n",
    "new_df_low.index.name = \"Date\""
   ]
  },
  {
   "cell_type": "code",
   "execution_count": 65,
   "metadata": {},
   "outputs": [],
   "source": [
    "# new_df"
   ]
  },
  {
   "cell_type": "code",
   "execution_count": 66,
   "metadata": {},
   "outputs": [
    {
     "name": "stdout",
     "output_type": "stream",
     "text": [
      "[87.63208091]\n",
      "[84.1695203]\n"
     ]
    }
   ],
   "source": [
    "print(model_high.predict(new_df_high))\n",
    "print(model_low.predict(new_df_low))"
   ]
  },
  {
   "cell_type": "code",
   "execution_count": 67,
   "metadata": {},
   "outputs": [
    {
     "data": {
      "text/plain": [
       "Date\n",
       "2024-02-22    88.300003\n",
       "2024-02-23    89.650002\n",
       "2024-02-26    89.599998\n",
       "2024-02-27    88.400002\n",
       "2024-02-28    87.500000\n",
       "Name: High, dtype: float64"
      ]
     },
     "execution_count": 67,
     "metadata": {},
     "output_type": "execute_result"
    }
   ],
   "source": [
    "rpower['High'].tail()"
   ]
  },
  {
   "cell_type": "code",
   "execution_count": 68,
   "metadata": {},
   "outputs": [
    {
     "data": {
      "text/html": [
       "<div>\n",
       "<style scoped>\n",
       "    .dataframe tbody tr th:only-of-type {\n",
       "        vertical-align: middle;\n",
       "    }\n",
       "\n",
       "    .dataframe tbody tr th {\n",
       "        vertical-align: top;\n",
       "    }\n",
       "\n",
       "    .dataframe thead th {\n",
       "        text-align: right;\n",
       "    }\n",
       "</style>\n",
       "<table border=\"1\" class=\"dataframe\">\n",
       "  <thead>\n",
       "    <tr style=\"text-align: right;\">\n",
       "      <th></th>\n",
       "      <th>High</th>\n",
       "      <th>shift1</th>\n",
       "      <th>shift2</th>\n",
       "      <th>shift3</th>\n",
       "      <th>shift4</th>\n",
       "      <th>shift5</th>\n",
       "      <th>shift6</th>\n",
       "      <th>shift7</th>\n",
       "    </tr>\n",
       "    <tr>\n",
       "      <th>Date</th>\n",
       "      <th></th>\n",
       "      <th></th>\n",
       "      <th></th>\n",
       "      <th></th>\n",
       "      <th></th>\n",
       "      <th></th>\n",
       "      <th></th>\n",
       "      <th></th>\n",
       "    </tr>\n",
       "  </thead>\n",
       "  <tbody>\n",
       "    <tr>\n",
       "      <th>2024-02-15</th>\n",
       "      <td>91.699997</td>\n",
       "      <td>90.800003</td>\n",
       "      <td>91.150002</td>\n",
       "      <td>89.300003</td>\n",
       "      <td>90.550003</td>\n",
       "      <td>92.550003</td>\n",
       "      <td>91.300003</td>\n",
       "      <td>89.650002</td>\n",
       "    </tr>\n",
       "    <tr>\n",
       "      <th>2024-02-16</th>\n",
       "      <td>91.199997</td>\n",
       "      <td>91.699997</td>\n",
       "      <td>90.800003</td>\n",
       "      <td>91.150002</td>\n",
       "      <td>89.300003</td>\n",
       "      <td>90.550003</td>\n",
       "      <td>92.550003</td>\n",
       "      <td>91.300003</td>\n",
       "    </tr>\n",
       "    <tr>\n",
       "      <th>2024-02-19</th>\n",
       "      <td>92.849998</td>\n",
       "      <td>91.199997</td>\n",
       "      <td>91.699997</td>\n",
       "      <td>90.800003</td>\n",
       "      <td>91.150002</td>\n",
       "      <td>89.300003</td>\n",
       "      <td>90.550003</td>\n",
       "      <td>92.550003</td>\n",
       "    </tr>\n",
       "    <tr>\n",
       "      <th>2024-02-20</th>\n",
       "      <td>94.349998</td>\n",
       "      <td>92.849998</td>\n",
       "      <td>91.199997</td>\n",
       "      <td>91.699997</td>\n",
       "      <td>90.800003</td>\n",
       "      <td>91.150002</td>\n",
       "      <td>89.300003</td>\n",
       "      <td>90.550003</td>\n",
       "    </tr>\n",
       "    <tr>\n",
       "      <th>2024-02-21</th>\n",
       "      <td>90.900002</td>\n",
       "      <td>94.349998</td>\n",
       "      <td>92.849998</td>\n",
       "      <td>91.199997</td>\n",
       "      <td>91.699997</td>\n",
       "      <td>90.800003</td>\n",
       "      <td>91.150002</td>\n",
       "      <td>89.300003</td>\n",
       "    </tr>\n",
       "    <tr>\n",
       "      <th>2024-02-22</th>\n",
       "      <td>88.300003</td>\n",
       "      <td>90.900002</td>\n",
       "      <td>94.349998</td>\n",
       "      <td>92.849998</td>\n",
       "      <td>91.199997</td>\n",
       "      <td>91.699997</td>\n",
       "      <td>90.800003</td>\n",
       "      <td>91.150002</td>\n",
       "    </tr>\n",
       "    <tr>\n",
       "      <th>2024-02-23</th>\n",
       "      <td>89.650002</td>\n",
       "      <td>88.300003</td>\n",
       "      <td>90.900002</td>\n",
       "      <td>94.349998</td>\n",
       "      <td>92.849998</td>\n",
       "      <td>91.199997</td>\n",
       "      <td>91.699997</td>\n",
       "      <td>90.800003</td>\n",
       "    </tr>\n",
       "    <tr>\n",
       "      <th>2024-02-26</th>\n",
       "      <td>89.599998</td>\n",
       "      <td>89.650002</td>\n",
       "      <td>88.300003</td>\n",
       "      <td>90.900002</td>\n",
       "      <td>94.349998</td>\n",
       "      <td>92.849998</td>\n",
       "      <td>91.199997</td>\n",
       "      <td>91.699997</td>\n",
       "    </tr>\n",
       "    <tr>\n",
       "      <th>2024-02-27</th>\n",
       "      <td>88.400002</td>\n",
       "      <td>89.599998</td>\n",
       "      <td>89.650002</td>\n",
       "      <td>88.300003</td>\n",
       "      <td>90.900002</td>\n",
       "      <td>94.349998</td>\n",
       "      <td>92.849998</td>\n",
       "      <td>91.199997</td>\n",
       "    </tr>\n",
       "    <tr>\n",
       "      <th>2024-02-28</th>\n",
       "      <td>87.500000</td>\n",
       "      <td>88.400002</td>\n",
       "      <td>89.599998</td>\n",
       "      <td>89.650002</td>\n",
       "      <td>88.300003</td>\n",
       "      <td>90.900002</td>\n",
       "      <td>94.349998</td>\n",
       "      <td>92.849998</td>\n",
       "    </tr>\n",
       "  </tbody>\n",
       "</table>\n",
       "</div>"
      ],
      "text/plain": [
       "                 High     shift1     shift2     shift3     shift4     shift5  \\\n",
       "Date                                                                           \n",
       "2024-02-15  91.699997  90.800003  91.150002  89.300003  90.550003  92.550003   \n",
       "2024-02-16  91.199997  91.699997  90.800003  91.150002  89.300003  90.550003   \n",
       "2024-02-19  92.849998  91.199997  91.699997  90.800003  91.150002  89.300003   \n",
       "2024-02-20  94.349998  92.849998  91.199997  91.699997  90.800003  91.150002   \n",
       "2024-02-21  90.900002  94.349998  92.849998  91.199997  91.699997  90.800003   \n",
       "2024-02-22  88.300003  90.900002  94.349998  92.849998  91.199997  91.699997   \n",
       "2024-02-23  89.650002  88.300003  90.900002  94.349998  92.849998  91.199997   \n",
       "2024-02-26  89.599998  89.650002  88.300003  90.900002  94.349998  92.849998   \n",
       "2024-02-27  88.400002  89.599998  89.650002  88.300003  90.900002  94.349998   \n",
       "2024-02-28  87.500000  88.400002  89.599998  89.650002  88.300003  90.900002   \n",
       "\n",
       "               shift6     shift7  \n",
       "Date                              \n",
       "2024-02-15  91.300003  89.650002  \n",
       "2024-02-16  92.550003  91.300003  \n",
       "2024-02-19  90.550003  92.550003  \n",
       "2024-02-20  89.300003  90.550003  \n",
       "2024-02-21  91.150002  89.300003  \n",
       "2024-02-22  90.800003  91.150002  \n",
       "2024-02-23  91.699997  90.800003  \n",
       "2024-02-26  91.199997  91.699997  \n",
       "2024-02-27  92.849998  91.199997  \n",
       "2024-02-28  94.349998  92.849998  "
      ]
     },
     "execution_count": 68,
     "metadata": {},
     "output_type": "execute_result"
    }
   ],
   "source": [
    "rpower_high.tail(10)"
   ]
  },
  {
   "cell_type": "code",
   "execution_count": 69,
   "metadata": {},
   "outputs": [
    {
     "data": {
      "text/html": [
       "<div>\n",
       "<style scoped>\n",
       "    .dataframe tbody tr th:only-of-type {\n",
       "        vertical-align: middle;\n",
       "    }\n",
       "\n",
       "    .dataframe tbody tr th {\n",
       "        vertical-align: top;\n",
       "    }\n",
       "\n",
       "    .dataframe thead th {\n",
       "        text-align: right;\n",
       "    }\n",
       "</style>\n",
       "<table border=\"1\" class=\"dataframe\">\n",
       "  <thead>\n",
       "    <tr style=\"text-align: right;\">\n",
       "      <th></th>\n",
       "      <th>Open</th>\n",
       "      <th>High</th>\n",
       "      <th>Low</th>\n",
       "      <th>Close</th>\n",
       "      <th>Adj Close</th>\n",
       "      <th>Volume</th>\n",
       "    </tr>\n",
       "    <tr>\n",
       "      <th>Date</th>\n",
       "      <th></th>\n",
       "      <th></th>\n",
       "      <th></th>\n",
       "      <th></th>\n",
       "      <th></th>\n",
       "      <th></th>\n",
       "    </tr>\n",
       "  </thead>\n",
       "  <tbody>\n",
       "    <tr>\n",
       "      <th>2024-02-22</th>\n",
       "      <td>86.849998</td>\n",
       "      <td>88.300003</td>\n",
       "      <td>84.750000</td>\n",
       "      <td>87.650002</td>\n",
       "      <td>87.650002</td>\n",
       "      <td>29169629</td>\n",
       "    </tr>\n",
       "    <tr>\n",
       "      <th>2024-02-23</th>\n",
       "      <td>88.250000</td>\n",
       "      <td>89.650002</td>\n",
       "      <td>87.750000</td>\n",
       "      <td>88.349998</td>\n",
       "      <td>88.349998</td>\n",
       "      <td>25843128</td>\n",
       "    </tr>\n",
       "    <tr>\n",
       "      <th>2024-02-26</th>\n",
       "      <td>88.800003</td>\n",
       "      <td>89.599998</td>\n",
       "      <td>87.099998</td>\n",
       "      <td>87.650002</td>\n",
       "      <td>87.650002</td>\n",
       "      <td>39761640</td>\n",
       "    </tr>\n",
       "    <tr>\n",
       "      <th>2024-02-27</th>\n",
       "      <td>87.900002</td>\n",
       "      <td>88.400002</td>\n",
       "      <td>85.400002</td>\n",
       "      <td>85.750000</td>\n",
       "      <td>85.750000</td>\n",
       "      <td>75427795</td>\n",
       "    </tr>\n",
       "    <tr>\n",
       "      <th>2024-02-28</th>\n",
       "      <td>86.250000</td>\n",
       "      <td>87.500000</td>\n",
       "      <td>84.000000</td>\n",
       "      <td>84.400002</td>\n",
       "      <td>84.400002</td>\n",
       "      <td>47472979</td>\n",
       "    </tr>\n",
       "  </tbody>\n",
       "</table>\n",
       "</div>"
      ],
      "text/plain": [
       "                 Open       High        Low      Close  Adj Close    Volume\n",
       "Date                                                                       \n",
       "2024-02-22  86.849998  88.300003  84.750000  87.650002  87.650002  29169629\n",
       "2024-02-23  88.250000  89.650002  87.750000  88.349998  88.349998  25843128\n",
       "2024-02-26  88.800003  89.599998  87.099998  87.650002  87.650002  39761640\n",
       "2024-02-27  87.900002  88.400002  85.400002  85.750000  85.750000  75427795\n",
       "2024-02-28  86.250000  87.500000  84.000000  84.400002  84.400002  47472979"
      ]
     },
     "execution_count": 69,
     "metadata": {},
     "output_type": "execute_result"
    }
   ],
   "source": [
    "rpower.tail()"
   ]
  },
  {
   "cell_type": "code",
   "execution_count": 70,
   "metadata": {},
   "outputs": [
    {
     "data": {
      "text/html": [
       "<div>\n",
       "<style scoped>\n",
       "    .dataframe tbody tr th:only-of-type {\n",
       "        vertical-align: middle;\n",
       "    }\n",
       "\n",
       "    .dataframe tbody tr th {\n",
       "        vertical-align: top;\n",
       "    }\n",
       "\n",
       "    .dataframe thead th {\n",
       "        text-align: right;\n",
       "    }\n",
       "</style>\n",
       "<table border=\"1\" class=\"dataframe\">\n",
       "  <thead>\n",
       "    <tr style=\"text-align: right;\">\n",
       "      <th></th>\n",
       "      <th>Open</th>\n",
       "      <th>High</th>\n",
       "      <th>Low</th>\n",
       "      <th>Close</th>\n",
       "      <th>Adj Close</th>\n",
       "      <th>Volume</th>\n",
       "    </tr>\n",
       "    <tr>\n",
       "      <th>Date</th>\n",
       "      <th></th>\n",
       "      <th></th>\n",
       "      <th></th>\n",
       "      <th></th>\n",
       "      <th></th>\n",
       "      <th></th>\n",
       "    </tr>\n",
       "  </thead>\n",
       "  <tbody>\n",
       "    <tr>\n",
       "      <th>2024-02-22</th>\n",
       "      <td>86.849998</td>\n",
       "      <td>88.300003</td>\n",
       "      <td>84.750000</td>\n",
       "      <td>87.650002</td>\n",
       "      <td>87.650002</td>\n",
       "      <td>29169629</td>\n",
       "    </tr>\n",
       "    <tr>\n",
       "      <th>2024-02-23</th>\n",
       "      <td>88.250000</td>\n",
       "      <td>89.650002</td>\n",
       "      <td>87.750000</td>\n",
       "      <td>88.349998</td>\n",
       "      <td>88.349998</td>\n",
       "      <td>25843128</td>\n",
       "    </tr>\n",
       "    <tr>\n",
       "      <th>2024-02-26</th>\n",
       "      <td>88.800003</td>\n",
       "      <td>89.599998</td>\n",
       "      <td>87.099998</td>\n",
       "      <td>87.650002</td>\n",
       "      <td>87.650002</td>\n",
       "      <td>39761640</td>\n",
       "    </tr>\n",
       "    <tr>\n",
       "      <th>2024-02-27</th>\n",
       "      <td>87.900002</td>\n",
       "      <td>88.400002</td>\n",
       "      <td>85.400002</td>\n",
       "      <td>85.750000</td>\n",
       "      <td>85.750000</td>\n",
       "      <td>75427795</td>\n",
       "    </tr>\n",
       "    <tr>\n",
       "      <th>2024-02-28</th>\n",
       "      <td>86.250000</td>\n",
       "      <td>87.500000</td>\n",
       "      <td>84.000000</td>\n",
       "      <td>84.400002</td>\n",
       "      <td>84.400002</td>\n",
       "      <td>47472979</td>\n",
       "    </tr>\n",
       "  </tbody>\n",
       "</table>\n",
       "</div>"
      ],
      "text/plain": [
       "                 Open       High        Low      Close  Adj Close    Volume\n",
       "Date                                                                       \n",
       "2024-02-22  86.849998  88.300003  84.750000  87.650002  87.650002  29169629\n",
       "2024-02-23  88.250000  89.650002  87.750000  88.349998  88.349998  25843128\n",
       "2024-02-26  88.800003  89.599998  87.099998  87.650002  87.650002  39761640\n",
       "2024-02-27  87.900002  88.400002  85.400002  85.750000  85.750000  75427795\n",
       "2024-02-28  86.250000  87.500000  84.000000  84.400002  84.400002  47472979"
      ]
     },
     "execution_count": 70,
     "metadata": {},
     "output_type": "execute_result"
    }
   ],
   "source": [
    "rpower.tail()"
   ]
  },
  {
   "cell_type": "code",
   "execution_count": 71,
   "metadata": {},
   "outputs": [
    {
     "data": {
      "text/html": [
       "<div>\n",
       "<style scoped>\n",
       "    .dataframe tbody tr th:only-of-type {\n",
       "        vertical-align: middle;\n",
       "    }\n",
       "\n",
       "    .dataframe tbody tr th {\n",
       "        vertical-align: top;\n",
       "    }\n",
       "\n",
       "    .dataframe thead th {\n",
       "        text-align: right;\n",
       "    }\n",
       "</style>\n",
       "<table border=\"1\" class=\"dataframe\">\n",
       "  <thead>\n",
       "    <tr style=\"text-align: right;\">\n",
       "      <th></th>\n",
       "      <th>Open</th>\n",
       "      <th>High</th>\n",
       "      <th>Low</th>\n",
       "      <th>Close</th>\n",
       "      <th>Adj Close</th>\n",
       "      <th>Volume</th>\n",
       "    </tr>\n",
       "    <tr>\n",
       "      <th>Date</th>\n",
       "      <th></th>\n",
       "      <th></th>\n",
       "      <th></th>\n",
       "      <th></th>\n",
       "      <th></th>\n",
       "      <th></th>\n",
       "    </tr>\n",
       "  </thead>\n",
       "  <tbody>\n",
       "    <tr>\n",
       "      <th>2024-02-22</th>\n",
       "      <td>86.849998</td>\n",
       "      <td>88.300003</td>\n",
       "      <td>84.750000</td>\n",
       "      <td>87.650002</td>\n",
       "      <td>87.650002</td>\n",
       "      <td>29169629</td>\n",
       "    </tr>\n",
       "    <tr>\n",
       "      <th>2024-02-23</th>\n",
       "      <td>88.250000</td>\n",
       "      <td>89.650002</td>\n",
       "      <td>87.750000</td>\n",
       "      <td>88.349998</td>\n",
       "      <td>88.349998</td>\n",
       "      <td>25843128</td>\n",
       "    </tr>\n",
       "    <tr>\n",
       "      <th>2024-02-26</th>\n",
       "      <td>88.800003</td>\n",
       "      <td>89.599998</td>\n",
       "      <td>87.099998</td>\n",
       "      <td>87.650002</td>\n",
       "      <td>87.650002</td>\n",
       "      <td>39761640</td>\n",
       "    </tr>\n",
       "    <tr>\n",
       "      <th>2024-02-27</th>\n",
       "      <td>87.900002</td>\n",
       "      <td>88.400002</td>\n",
       "      <td>85.400002</td>\n",
       "      <td>85.750000</td>\n",
       "      <td>85.750000</td>\n",
       "      <td>75427795</td>\n",
       "    </tr>\n",
       "    <tr>\n",
       "      <th>2024-02-28</th>\n",
       "      <td>86.250000</td>\n",
       "      <td>87.500000</td>\n",
       "      <td>84.000000</td>\n",
       "      <td>84.400002</td>\n",
       "      <td>84.400002</td>\n",
       "      <td>47472979</td>\n",
       "    </tr>\n",
       "  </tbody>\n",
       "</table>\n",
       "</div>"
      ],
      "text/plain": [
       "                 Open       High        Low      Close  Adj Close    Volume\n",
       "Date                                                                       \n",
       "2024-02-22  86.849998  88.300003  84.750000  87.650002  87.650002  29169629\n",
       "2024-02-23  88.250000  89.650002  87.750000  88.349998  88.349998  25843128\n",
       "2024-02-26  88.800003  89.599998  87.099998  87.650002  87.650002  39761640\n",
       "2024-02-27  87.900002  88.400002  85.400002  85.750000  85.750000  75427795\n",
       "2024-02-28  86.250000  87.500000  84.000000  84.400002  84.400002  47472979"
      ]
     },
     "execution_count": 71,
     "metadata": {},
     "output_type": "execute_result"
    }
   ],
   "source": [
    "rpower.tail()"
   ]
  },
  {
   "cell_type": "code",
   "execution_count": null,
   "metadata": {},
   "outputs": [],
   "source": []
  }
 ],
 "metadata": {
  "kernelspec": {
   "display_name": "Python 3",
   "language": "python",
   "name": "python3"
  },
  "language_info": {
   "codemirror_mode": {
    "name": "ipython",
    "version": 3
   },
   "file_extension": ".py",
   "mimetype": "text/x-python",
   "name": "python",
   "nbconvert_exporter": "python",
   "pygments_lexer": "ipython3",
   "version": "3.12.2"
  }
 },
 "nbformat": 4,
 "nbformat_minor": 2
}
