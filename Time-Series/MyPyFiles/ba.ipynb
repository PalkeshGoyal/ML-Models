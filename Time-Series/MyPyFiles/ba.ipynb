{
 "cells": [
  {
   "cell_type": "code",
   "execution_count": 2,
   "metadata": {},
   "outputs": [],
   "source": [
    "# Swaping of number\n",
    "a = 20\n",
    "b =  30\n",
    "a,b = b,a"
   ]
  },
  {
   "cell_type": "code",
   "execution_count": 3,
   "metadata": {},
   "outputs": [
    {
     "name": "stdout",
     "output_type": "stream",
     "text": [
      "Leap Year\n"
     ]
    }
   ],
   "source": [
    "# Leap year check \n",
    "year = int(input(\"Year : \"))\n",
    "if((year%4 == 0) & (year % 400 != 0)):\n",
    "    print('Leap Year')\n",
    "else:\n",
    "    print('Not a leap year')"
   ]
  },
  {
   "cell_type": "code",
   "execution_count": 4,
   "metadata": {},
   "outputs": [
    {
     "name": "stdout",
     "output_type": "stream",
     "text": [
      "Happy Year\n"
     ]
    }
   ],
   "source": [
    "# Happy Number\n",
    "def sum_square(num):\n",
    "    result = 0\n",
    "    for i in num:\n",
    "        result+= int(i)**2\n",
    "    return result\n",
    "\n",
    "\n",
    "def check_happy_number(num):\n",
    "    num = str(num)\n",
    "    flag = 0\n",
    "    for i in range(100):\n",
    "        num = sum_square(num)\n",
    "        if(num == 1):\n",
    "            flag = 1\n",
    "            print(\"Happy Year\")\n",
    "            break\n",
    "        else:\n",
    "            sum_square(str(num))\n",
    "    if(flag == 0):\n",
    "        print(\"Not a Happy Number\")\n",
    "\n",
    "check_happy_number(int(input(\"Enter Number : \")))"
   ]
  },
  {
   "cell_type": "code",
   "execution_count": 5,
   "metadata": {},
   "outputs": [
    {
     "name": "stdout",
     "output_type": "stream",
     "text": [
      "    January 2024\n",
      "Mo Tu We Th Fr Sa Su\n",
      " 1  2  3  4  5  6  7\n",
      " 8  9 10 11 12 13 14\n",
      "15 16 17 18 19 20 21\n",
      "22 23 24 25 26 27 28\n",
      "29 30 31\n",
      "\n"
     ]
    }
   ],
   "source": [
    "# Calender\n",
    "import calendar\n",
    "year = int(input(\"Year : \"))\n",
    "month = int(input('Month : ')) \n",
    "days = calendar.month(year, month)\n",
    "print(days)"
   ]
  },
  {
   "cell_type": "code",
   "execution_count": 6,
   "metadata": {},
   "outputs": [
    {
     "name": "stdout",
     "output_type": "stream",
     "text": [
      "10\n"
     ]
    }
   ],
   "source": [
    "# get binary number\n",
    "num = int(input(\"Number : \"))\n",
    "res = \"\"\n",
    "while num>0:\n",
    "    res+= str(num%2)\n",
    "    num//=2\n",
    "print(res[::-1])"
   ]
  },
  {
   "cell_type": "code",
   "execution_count": 7,
   "metadata": {},
   "outputs": [
    {
     "name": "stdout",
     "output_type": "stream",
     "text": [
      "10\n"
     ]
    }
   ],
   "source": [
    "# get octal number\n",
    "num = int(input(\"Number : \"))\n",
    "res = \"\"\n",
    "while num>0:\n",
    "    res+= str(num%8)\n",
    "    num//=8\n",
    "print(res[::-1])                              \n"
   ]
  },
  {
   "cell_type": "code",
   "execution_count": 8,
   "metadata": {},
   "outputs": [
    {
     "name": "stdout",
     "output_type": "stream",
     "text": [
      "[1, 2, 3, 4, 5, ['Palkesh']]\n",
      "[1, 2, 3, 4, 5, ['Palkesh'], 'Goyal']\n"
     ]
    }
   ],
   "source": [
    "test = [1,2,3,4,5]\n",
    "test.append([\"Palkesh\"])\n",
    "print(test)\n",
    "test.extend([\"Goyal\"])\n",
    "print(test)"
   ]
  },
  {
   "cell_type": "code",
   "execution_count": 9,
   "metadata": {},
   "outputs": [
    {
     "name": "stdout",
     "output_type": "stream",
     "text": [
      "50\n"
     ]
    }
   ],
   "source": [
    "# Get Hexadecimal Number\n",
    "hexa = {\n",
    "    10 : \"A\",\n",
    "    11: \"B\",\n",
    "    12: \"C\",\n",
    "    13 : \"D\",\n",
    "    14: \"E\",\n",
    "    15 : \"F\"\n",
    "}\n",
    "num = int(input(\"Number : \"))\n",
    "res = \"\"\n",
    "while num>0:\n",
    "    if(num%16 > 9):\n",
    "        res+= hexa[num%16]\n",
    "    else:\n",
    "        res += str(num%16)\n",
    "    num//=16\n",
    "print(res[::-1])"
   ]
  },
  {
   "cell_type": "code",
   "execution_count": 11,
   "metadata": {},
   "outputs": [
    {
     "name": "stdout",
     "output_type": "stream",
     "text": [
      "17\n"
     ]
    }
   ],
   "source": [
    "# write a equation\n",
    "print(eval(input()))"
   ]
  },
  {
   "cell_type": "code",
   "execution_count": null,
   "metadata": {},
   "outputs": [],
   "source": [
    "# Four Basic operation\n",
    "\n",
    "num1 = int(input(\"Num1 : \"))\n",
    "num2 = int(input(\"Num2 : \"))\n",
    "\n",
    "print(\"1. Addition\")\n",
    "print(\"2. Subtraction\")\n",
    "print(\"3. Multiplication\")\n",
    "print(\"4. Division\")\n",
    "\n",
    "res = {\n",
    "    1 : num1 + num2,\n",
    "    2 : num1 - num2,\n",
    "    3 : num1 * num2,\n",
    "    4 : num1/num2, \n",
    "}\n",
    "print(res[int(input())])"
   ]
  },
  {
   "cell_type": "code",
   "execution_count": null,
   "metadata": {},
   "outputs": [],
   "source": [
    "# BMI calculator\n",
    "weight = float(input(\"Weight : \"))\n",
    "height = float(input(\"Height (meters) : \"))\n",
    "print(weight/(height ** 2))"
   ]
  },
  {
   "cell_type": "code",
   "execution_count": null,
   "metadata": {},
   "outputs": [],
   "source": [
    "sentense = \"1.0 Hello World!! Welcome to my 2.0 World!\"\n",
    "char_count = 0\n",
    "num_count = 0\n",
    "for i in sentense:\n",
    "    if(i.isnumeric()):\n",
    "        num_count+=1\n",
    "    if(i.isalpha()):\n",
    "        char_count+=1\n",
    "\n",
    "print(\"Character Count : \" , char_count)\n",
    "print(\"Number Count : \" , num_count)"
   ]
  },
  {
   "cell_type": "code",
   "execution_count": null,
   "metadata": {},
   "outputs": [],
   "source": [
    "# Multiply without * Sign\n",
    "\n",
    "num1 = int(input())\n",
    "num2 = int(input())\n",
    "res = 0\n",
    "for i in range(num2):\n",
    "    res+=num1\n",
    "print(res)"
   ]
  },
  {
   "cell_type": "code",
   "execution_count": null,
   "metadata": {},
   "outputs": [],
   "source": [
    "num_list = [int(i) for i in input().split(\" \")]\n",
    "res = 1\n",
    "for num in num_list:\n",
    "    res*= num\n",
    "\n",
    "print(\"Result : \" , res)"
   ]
  },
  {
   "cell_type": "code",
   "execution_count": null,
   "metadata": {},
   "outputs": [],
   "source": [
    "a = [1,2,3,4]\n",
    "b = [1,2,3,4]\n",
    "for aa , bb in zip(a,b):\n",
    "    print(aa == bb)\n",
    "    print(a is b)"
   ]
  },
  {
   "cell_type": "code",
   "execution_count": null,
   "metadata": {},
   "outputs": [],
   "source": [
    "my_list = [1,2,3,4,5,6,7,8,9]\n",
    "print(my_list[1:6:2])"
   ]
  },
  {
   "cell_type": "code",
   "execution_count": null,
   "metadata": {},
   "outputs": [],
   "source": [
    "temp = \"Palkesh\""
   ]
  },
  {
   "cell_type": "code",
   "execution_count": null,
   "metadata": {},
   "outputs": [],
   "source": [
    "fruits = ['apple', 'banana', 'cherry']\n",
    "enum_fruits = enumerate(fruits)\n",
    "\n",
    "next_element = next(enum_fruits)\n",
    "print(f\"Next Element: {next_element}\")\n",
    "next_element = next(enum_fruits)\n",
    "print(f\"Next Element: {next_element}\")\n"
   ]
  },
  {
   "cell_type": "code",
   "execution_count": null,
   "metadata": {},
   "outputs": [],
   "source": [
    "a = [1,2,3]\n",
    "b = [4,5,6]\n",
    "for c in zip(a,b):\n",
    "\tprint(c)\n"
   ]
  },
  {
   "cell_type": "code",
   "execution_count": null,
   "metadata": {},
   "outputs": [],
   "source": [
    "set1 = set((1,2,3,4,5,6))\n",
    "set2 = set((3,4,5,6,7,8,9))"
   ]
  },
  {
   "cell_type": "code",
   "execution_count": null,
   "metadata": {},
   "outputs": [],
   "source": [
    "count = 0\n",
    "for s1 in set1:\n",
    "    for s2 in set2:\n",
    "        count+=1\n",
    "        if(s1 == s2):\n",
    "            print(s1)\n",
    "            break\n",
    "\n",
    "print(count)"
   ]
  },
  {
   "cell_type": "code",
   "execution_count": null,
   "metadata": {},
   "outputs": [],
   "source": [
    "def temp(*args , **kwargs):\n",
    "    for arg in args:\n",
    "        print(args)\n",
    "    for key,value in kwargs.items():\n",
    "        print(f\"key : {key} , value : {value}\")\n",
    "\n",
    "temp(\"Hello\",\"World\" , name = \"Palkesh\" , s_name = \"Goyal\")"
   ]
  },
  {
   "cell_type": "code",
   "execution_count": null,
   "metadata": {},
   "outputs": [],
   "source": []
  }
 ],
 "metadata": {
  "kernelspec": {
   "display_name": "Python 3",
   "language": "python",
   "name": "python3"
  },
  "language_info": {
   "codemirror_mode": {
    "name": "ipython",
    "version": 3
   },
   "file_extension": ".py",
   "mimetype": "text/x-python",
   "name": "python",
   "nbconvert_exporter": "python",
   "pygments_lexer": "ipython3",
   "version": "3.10.12"
  }
 },
 "nbformat": 4,
 "nbformat_minor": 2
}
