{
 "cells": [
  {
   "cell_type": "markdown",
   "metadata": {},
   "source": [
    "### Section - A\n",
    "1) a) Indentation\n",
    "2) a) 4\n",
    "3) d) False\n",
    "4) c) lambda\n",
    "5) a) |\n",
    "6) b) tuple\n",
    "7) d) All of the above\n",
    "8) d) set()\n",
    "9) c) MTWTFSS\n",
    "10) a) It is no-op placeholder"
   ]
  },
  {
   "cell_type": "markdown",
   "metadata": {},
   "source": [
    "### Section - B"
   ]
  },
  {
   "cell_type": "markdown",
   "metadata": {},
   "source": [
    "1) Scope Resolution means the availability or the accessibility of the particular variable/function. EX : variables declared inside function has the scope inside the function, out of the function/block the scope of variable is nothing, the variable is accesssible inside the function/block."
   ]
  },
  {
   "cell_type": "markdown",
   "metadata": {},
   "source": []
  },
  {
   "cell_type": "markdown",
   "metadata": {},
   "source": [
    "2) SKIP"
   ]
  },
  {
   "cell_type": "markdown",
   "metadata": {},
   "source": []
  },
  {
   "cell_type": "markdown",
   "metadata": {},
   "source": [
    "3. Variable passing means, giving values to a function for a particular use case, and in that we got two new sub section i.e. passing by value and passing by reference.\n",
    "Passing by value - When you pass a value or variable containing the value than it is said as the Passing by value. Ex:\n",
    "\n",
    "sum(10,20)\n",
    "\n",
    "Passing by refence - when you pass the values in the form in which the variable is referencing to some sort of function, than that is called as the Passing by reference. Ex:\n",
    "\n",
    "summ = sum()\n",
    "###### Here we are having summ variable which contains the function\n",
    "function(summ)"
   ]
  },
  {
   "cell_type": "markdown",
   "metadata": {},
   "source": [
    "4. Iterators : The object/fcuntion/variables which contains multiple values inside it which can be iterated one after another than that is called as the iterators. Few iterators are as follows - \n",
    "1) list\n",
    "2) tuple\n",
    "3) dictionary\n",
    "4) set\n",
    "5) range"
   ]
  },
  {
   "cell_type": "markdown",
   "metadata": {},
   "source": [
    "5. SKIP"
   ]
  },
  {
   "cell_type": "markdown",
   "metadata": {},
   "source": [
    "6. The main difference between Python arrays and list is that, python list can hold the multiple data type in it, while on the other array can hold only a single type of data type."
   ]
  },
  {
   "cell_type": "markdown",
   "metadata": {},
   "source": [
    "7. SKIP"
   ]
  },
  {
   "cell_type": "markdown",
   "metadata": {},
   "source": [
    "8. *args - *args are used within the parameters of the function which accept \"n\" number of non-keyword arguments inside it and treated as the tuple\n",
    "**kwargs - **kwargs on the other hands accept \"n\" number of keyword-arguments inside it and treated as dictionary\n",
    "\n",
    "When to use the ARG's and KWARG's - \n",
    "When the input of the function don't have the specified number of arguments in it, i.e. the size of the input can vary at that time we use the ARG's and KWARG's.\n",
    "\n",
    "Syntax - \n",
    "def function(*args , **kwargs):\n",
    "    print(args)\n",
    "    print(kwargs)\n",
    "\n",
    "function(1,2,3,4,name=\"Palkesh\",s_name = \"Goyal\")\n",
    "\n",
    "Output - \n",
    "(1, 2, 3, 4)\n",
    "{'name': 'Palkesh', 's_name': 'Goyal'}"
   ]
  },
  {
   "cell_type": "markdown",
   "metadata": {},
   "source": [
    "### Section - C"
   ]
  },
  {
   "cell_type": "markdown",
   "metadata": {},
   "source": [
    "#### Program 1 Q-1"
   ]
  },
  {
   "cell_type": "code",
   "execution_count": null,
   "metadata": {},
   "outputs": [],
   "source": [
    "# Input should be given in the manner - 10,20,30,40,50\n",
    "num1,num2,num3,num4,num5 = [float(num) for num in input().split(\",\")]\n",
    "print(num1)\n",
    "print(num2)\n",
    "print(num3)\n",
    "print(num4)\n",
    "print(num5)"
   ]
  },
  {
   "cell_type": "markdown",
   "metadata": {},
   "source": [
    "#### Program 2 Q-2"
   ]
  },
  {
   "cell_type": "code",
   "execution_count": 10,
   "metadata": {},
   "outputs": [
    {
     "name": "stdout",
     "output_type": "stream",
     "text": [
      "Not a prime number\n"
     ]
    }
   ],
   "source": [
    "num = int(input(\"Enter Number:\"))\n",
    "flag = 0\n",
    "for i in range(2,num//2+2):\n",
    "    if(num%i==0):\n",
    "        flag = 1\n",
    "        break\n",
    "if(flag == 0):\n",
    "    print(\"Prime Number\")\n",
    "else:\n",
    "    print(\"Not a prime number\")"
   ]
  },
  {
   "cell_type": "markdown",
   "metadata": {},
   "source": [
    "#### Program 3 Q-4"
   ]
  },
  {
   "cell_type": "code",
   "execution_count": 12,
   "metadata": {},
   "outputs": [
    {
     "name": "stdout",
     "output_type": "stream",
     "text": [
      "3\n"
     ]
    }
   ],
   "source": [
    "inp_str = input(\"Enter the sentense :\") #\"hello how are you\"\n",
    "sub_str = input(\"Enter character : \") # \"h\"\n",
    "count = 0\n",
    "for ch in inp_str:\n",
    "    if(ch==sub_str):\n",
    "        count+=1\n",
    "print(count)"
   ]
  },
  {
   "cell_type": "markdown",
   "metadata": {},
   "source": [
    "#### Program 4 Q-5"
   ]
  },
  {
   "cell_type": "code",
   "execution_count": 1,
   "metadata": {},
   "outputs": [
    {
     "name": "stdout",
     "output_type": "stream",
     "text": [
      "Integer value count : 0\n",
      "Character value count : 0\n",
      "Special Character value count : 0\n"
     ]
    }
   ],
   "source": [
    "inp_str = input() #\"palkesh1728@gmail.com   \"\n",
    "int_count = 0\n",
    "ch_count = 0\n",
    "sp_count = 0\n",
    "for ch in inp_str:\n",
    "    if(ch.isnumeric()):\n",
    "        int_count+=1\n",
    "    if(ch.isalpha()):\n",
    "        ch_count+=1\n",
    "    if(not ch.isalnum()):\n",
    "        sp_count+=1\n",
    "\n",
    "print(\"Integer value count : {}\".format(int_count))\n",
    "print(\"Character value count : {}\".format(ch_count))\n",
    "print(\"Special Character value count : {}\".format(sp_count))\n",
    "    "
   ]
  },
  {
   "cell_type": "markdown",
   "metadata": {},
   "source": [
    "#### Program 5 Q-6"
   ]
  },
  {
   "cell_type": "code",
   "execution_count": 16,
   "metadata": {},
   "outputs": [
    {
     "name": "stdout",
     "output_type": "stream",
     "text": [
      "     * \n",
      "    * * \n",
      "   * * * \n",
      "  * * * * \n",
      " * * * * * \n",
      "* * * * * * \n"
     ]
    }
   ],
   "source": [
    "num = int(input(\"Enter number : \")) #6\n",
    "for i in range(1,num+1):\n",
    "    print(\" \"*(num-i)+\"* \"*i)"
   ]
  },
  {
   "cell_type": "code",
   "execution_count": null,
   "metadata": {},
   "outputs": [],
   "source": []
  }
 ],
 "metadata": {
  "kernelspec": {
   "display_name": "Python 3",
   "language": "python",
   "name": "python3"
  },
  "language_info": {
   "codemirror_mode": {
    "name": "ipython",
    "version": 3
   },
   "file_extension": ".py",
   "mimetype": "text/x-python",
   "name": "python",
   "nbconvert_exporter": "python",
   "pygments_lexer": "ipython3",
   "version": "3.12.2"
  }
 },
 "nbformat": 4,
 "nbformat_minor": 2
}
